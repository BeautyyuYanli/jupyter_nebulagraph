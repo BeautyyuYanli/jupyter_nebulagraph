{
 "cells": [
  {
   "cell_type": "markdown",
   "id": "favorite-value",
   "metadata": {},
   "source": [
    "# Get Started With nGQL Jupyter Magic Extension"
   ]
  },
  {
   "cell_type": "markdown",
   "id": "british-cream",
   "metadata": {},
   "source": [
    "## How To Install nGQL in Jupyter or iPython\n",
    "First, install nGQL Magic with pip:\n",
    "```bash\n",
    "!pip install ipython-ngql\n",
    "```\n",
    "Second, load extension:\n",
    "```bash\n",
    "$load_ext ngql\n",
    "```"
   ]
  },
  {
   "cell_type": "code",
   "execution_count": 1,
   "id": "biological-summary",
   "metadata": {},
   "outputs": [],
   "source": [
    "%load_ext ngql"
   ]
  },
  {
   "cell_type": "markdown",
   "id": "embedded-olive",
   "metadata": {},
   "source": [
    "## How to Use\n",
    "Connect to Nebula Graph with:\n",
    "\n",
    "```bash\n",
    "%ngql --address <ip> --port <port> --user <username> --password <password>\n",
    "```"
   ]
  },
  {
   "cell_type": "code",
   "execution_count": 2,
   "id": "nasty-angel",
   "metadata": {},
   "outputs": [
    {
     "name": "stdout",
     "output_type": "stream",
     "text": [
      "Connection Pool Created\n"
     ]
    },
    {
     "data": {
      "text/html": [
       "<div>\n",
       "<style scoped>\n",
       "    .dataframe tbody tr th:only-of-type {\n",
       "        vertical-align: middle;\n",
       "    }\n",
       "\n",
       "    .dataframe tbody tr th {\n",
       "        vertical-align: top;\n",
       "    }\n",
       "\n",
       "    .dataframe thead th {\n",
       "        text-align: right;\n",
       "    }\n",
       "</style>\n",
       "<table border=\"1\" class=\"dataframe\">\n",
       "  <thead>\n",
       "    <tr style=\"text-align: right;\">\n",
       "      <th></th>\n",
       "      <th>Name</th>\n",
       "    </tr>\n",
       "  </thead>\n",
       "  <tbody>\n",
       "    <tr>\n",
       "      <th>0</th>\n",
       "      <td>pokemon_club</td>\n",
       "    </tr>\n",
       "  </tbody>\n",
       "</table>\n",
       "</div>"
      ],
      "text/plain": [
       "           Name\n",
       "0  pokemon_club"
      ]
     },
     "execution_count": 2,
     "metadata": {},
     "output_type": "execute_result"
    }
   ],
   "source": [
    "%ngql --address 127.0.0.1 --port 9669 --user user --password password"
   ]
  },
  {
   "cell_type": "markdown",
   "id": "necessary-performance",
   "metadata": {},
   "source": [
    "Make a query after `Connection Pool Created` shown in the connection from last step:\n",
    "\n",
    "\n",
    "Option 1, it supports one line query as:\n",
    "```ngql\n",
    "%ngql <query_line>;\n",
    "```\n",
    "Option 2, it also supports multiple queries:\n",
    "\n",
    "```ngql\n",
    "%%ngql\n",
    "<line 0>;\n",
    "<line 1>;\n",
    "```\n",
    "\n",
    "> Note, we will support a 3rd option to enable runing lines from `.ngql` file soon."
   ]
  },
  {
   "cell_type": "code",
   "execution_count": 3,
   "id": "copyrighted-aberdeen",
   "metadata": {},
   "outputs": [
    {
     "data": {
      "text/html": [
       "<div>\n",
       "<style scoped>\n",
       "    .dataframe tbody tr th:only-of-type {\n",
       "        vertical-align: middle;\n",
       "    }\n",
       "\n",
       "    .dataframe tbody tr th {\n",
       "        vertical-align: top;\n",
       "    }\n",
       "\n",
       "    .dataframe thead th {\n",
       "        text-align: right;\n",
       "    }\n",
       "</style>\n",
       "<table border=\"1\" class=\"dataframe\">\n",
       "  <thead>\n",
       "    <tr style=\"text-align: right;\">\n",
       "      <th></th>\n",
       "      <th>Trainer_Name</th>\n",
       "    </tr>\n",
       "  </thead>\n",
       "  <tbody>\n",
       "    <tr>\n",
       "      <th>0</th>\n",
       "      <td>Tom</td>\n",
       "    </tr>\n",
       "    <tr>\n",
       "      <th>1</th>\n",
       "      <td>Jerry</td>\n",
       "    </tr>\n",
       "    <tr>\n",
       "      <th>2</th>\n",
       "      <td>Sue</td>\n",
       "    </tr>\n",
       "    <tr>\n",
       "      <th>3</th>\n",
       "      <td>Tom</td>\n",
       "    </tr>\n",
       "    <tr>\n",
       "      <th>4</th>\n",
       "      <td>Wey</td>\n",
       "    </tr>\n",
       "  </tbody>\n",
       "</table>\n",
       "</div>"
      ],
      "text/plain": [
       "  Trainer_Name\n",
       "0          Tom\n",
       "1        Jerry\n",
       "2          Sue\n",
       "3          Tom\n",
       "4          Wey"
      ]
     },
     "execution_count": 3,
     "metadata": {},
     "output_type": "execute_result"
    }
   ],
   "source": [
    "%ngql GO FROM \"Tom\" OVER owns_pokemon YIELD owns_pokemon._dst as pokemon_id | GO FROM $-.pokemon_id OVER owns_pokemon REVERSELY YIELD owns_pokemon._dst AS Trainer_Name"
   ]
  },
  {
   "cell_type": "code",
   "execution_count": 4,
   "id": "northern-anatomy",
   "metadata": {},
   "outputs": [
    {
     "data": {
      "text/html": [
       "<div>\n",
       "<style scoped>\n",
       "    .dataframe tbody tr th:only-of-type {\n",
       "        vertical-align: middle;\n",
       "    }\n",
       "\n",
       "    .dataframe tbody tr th {\n",
       "        vertical-align: top;\n",
       "    }\n",
       "\n",
       "    .dataframe thead th {\n",
       "        text-align: right;\n",
       "    }\n",
       "</style>\n",
       "<table border=\"1\" class=\"dataframe\">\n",
       "  <thead>\n",
       "    <tr style=\"text-align: right;\">\n",
       "      <th></th>\n",
       "      <th>Host</th>\n",
       "      <th>Port</th>\n",
       "      <th>Status</th>\n",
       "      <th>Leader count</th>\n",
       "      <th>Leader distribution</th>\n",
       "      <th>Partition distribution</th>\n",
       "    </tr>\n",
       "  </thead>\n",
       "  <tbody>\n",
       "    <tr>\n",
       "      <th>0</th>\n",
       "      <td>storaged0</td>\n",
       "      <td>9779.0</td>\n",
       "      <td>ONLINE</td>\n",
       "      <td>0</td>\n",
       "      <td>No valid partition</td>\n",
       "      <td>No valid partition</td>\n",
       "    </tr>\n",
       "    <tr>\n",
       "      <th>1</th>\n",
       "      <td>storaged1</td>\n",
       "      <td>9779.0</td>\n",
       "      <td>ONLINE</td>\n",
       "      <td>1</td>\n",
       "      <td>pokemon_club:1</td>\n",
       "      <td>pokemon_club:1</td>\n",
       "    </tr>\n",
       "    <tr>\n",
       "      <th>2</th>\n",
       "      <td>storaged2</td>\n",
       "      <td>9779.0</td>\n",
       "      <td>ONLINE</td>\n",
       "      <td>0</td>\n",
       "      <td>No valid partition</td>\n",
       "      <td>No valid partition</td>\n",
       "    </tr>\n",
       "    <tr>\n",
       "      <th>3</th>\n",
       "      <td>Total</td>\n",
       "      <td>NaN</td>\n",
       "      <td>None</td>\n",
       "      <td>1</td>\n",
       "      <td>pokemon_club:1</td>\n",
       "      <td>pokemon_club:1</td>\n",
       "    </tr>\n",
       "  </tbody>\n",
       "</table>\n",
       "</div>"
      ],
      "text/plain": [
       "        Host    Port  Status  Leader count Leader distribution  \\\n",
       "0  storaged0  9779.0  ONLINE             0  No valid partition   \n",
       "1  storaged1  9779.0  ONLINE             1      pokemon_club:1   \n",
       "2  storaged2  9779.0  ONLINE             0  No valid partition   \n",
       "3      Total     NaN    None             1      pokemon_club:1   \n",
       "\n",
       "  Partition distribution  \n",
       "0     No valid partition  \n",
       "1         pokemon_club:1  \n",
       "2     No valid partition  \n",
       "3         pokemon_club:1  "
      ]
     },
     "execution_count": 4,
     "metadata": {},
     "output_type": "execute_result"
    }
   ],
   "source": [
    "%%ngql\n",
    "SHOW TAGS;\n",
    "SHOW HOSTS;"
   ]
  },
  {
   "cell_type": "markdown",
   "id": "apart-questionnaire",
   "metadata": {},
   "source": [
    "> It's quite easy, right?\n",
    "You could get help by `%ngql help` for some advanced usage:\n",
    "\n",
    "```ngql\n",
    "%ngql help\n",
    "```"
   ]
  },
  {
   "cell_type": "markdown",
   "id": "oriental-vault",
   "metadata": {},
   "source": [
    "### Using Variables in Query String\n",
    "\n",
    "We used Jinja2(https://jinja.palletsprojects.com/) as templating method for variables in query string:\n",
    "\n",
    "```python\n",
    "trainer = \"Sue\"\n",
    "```\n",
    "\n",
    "```ngql\n",
    "%%ngql\n",
    "GO FROM \"{{ trainer }}\" OVER owns_pokemon YIELD owns_pokemon._dst as pokemon_id | GO FROM $-.pokemon_id OVER owns_pokemon REVERSELY YIELD owns_pokemon._dst AS Trainer_Name;\n",
    "```"
   ]
  },
  {
   "cell_type": "code",
   "execution_count": 5,
   "id": "disciplinary-sustainability",
   "metadata": {},
   "outputs": [],
   "source": [
    "trainer = \"Sue\""
   ]
  },
  {
   "cell_type": "code",
   "execution_count": 6,
   "id": "bizarre-absorption",
   "metadata": {},
   "outputs": [
    {
     "data": {
      "text/html": [
       "<div>\n",
       "<style scoped>\n",
       "    .dataframe tbody tr th:only-of-type {\n",
       "        vertical-align: middle;\n",
       "    }\n",
       "\n",
       "    .dataframe tbody tr th {\n",
       "        vertical-align: top;\n",
       "    }\n",
       "\n",
       "    .dataframe thead th {\n",
       "        text-align: right;\n",
       "    }\n",
       "</style>\n",
       "<table border=\"1\" class=\"dataframe\">\n",
       "  <thead>\n",
       "    <tr style=\"text-align: right;\">\n",
       "      <th></th>\n",
       "      <th>Trainer_Name</th>\n",
       "    </tr>\n",
       "  </thead>\n",
       "  <tbody>\n",
       "    <tr>\n",
       "      <th>0</th>\n",
       "      <td>Jerry</td>\n",
       "    </tr>\n",
       "    <tr>\n",
       "      <th>1</th>\n",
       "      <td>Sue</td>\n",
       "    </tr>\n",
       "    <tr>\n",
       "      <th>2</th>\n",
       "      <td>Tom</td>\n",
       "    </tr>\n",
       "    <tr>\n",
       "      <th>3</th>\n",
       "      <td>Wey</td>\n",
       "    </tr>\n",
       "  </tbody>\n",
       "</table>\n",
       "</div>"
      ],
      "text/plain": [
       "  Trainer_Name\n",
       "0        Jerry\n",
       "1          Sue\n",
       "2          Tom\n",
       "3          Wey"
      ]
     },
     "execution_count": 6,
     "metadata": {},
     "output_type": "execute_result"
    }
   ],
   "source": [
    "%%ngql\n",
    "GO FROM \"{{ trainer }}\" OVER owns_pokemon YIELD owns_pokemon._dst as pokemon_id | GO FROM $-.pokemon_id OVER owns_pokemon REVERSELY YIELD owns_pokemon._dst AS Trainer_Name;"
   ]
  },
  {
   "cell_type": "markdown",
   "id": "motivated-pantyhose",
   "metadata": {},
   "source": [
    "### Using Raw thrift data type as result\n",
    "By default the result `ngql_result_style` is `pandas`, this enabled us to have table view renderred by Jupyter Notebook.\n",
    "\n",
    "While, if you would like to get raw results from `neutron2-python` itself, just configure it as below on the fly:\n",
    "\n",
    "```\n",
    "%config IPythonNGQL.ngql_result_style=\"raw\"\n",
    "```\n",
    "\n",
    "And after querying, the result will be stored in `_`, plesae then refer it to a new variable for further ad-hoc tweaking on it like:\n",
    "```\n",
    "$ngql <query>;\n",
    "\n",
    "result = _\n",
    "\n",
    "dir(result)\n",
    "```"
   ]
  },
  {
   "cell_type": "code",
   "execution_count": 7,
   "id": "designed-civilian",
   "metadata": {},
   "outputs": [],
   "source": [
    "%config IPythonNGQL.ngql_result_style=\"raw\""
   ]
  },
  {
   "cell_type": "code",
   "execution_count": 8,
   "id": "quiet-armor",
   "metadata": {},
   "outputs": [
    {
     "data": {
      "text/plain": [
       "ResultSet(ExecutionResponse(\n",
       "    error_code=0,\n",
       "    latency_in_us=6886,\n",
       "    data=DataSet(\n",
       "        column_names=[b'Trainer_Name'],\n",
       "        rows=[Row(\n",
       "            values=[Value(\n",
       "                sVal=b'Tom')]),\n",
       "        Row(\n",
       "            values=[Value(\n",
       "                sVal=b'Jerry')]),\n",
       "        Row(\n",
       "            values=[Value(\n",
       "                sVal=b'Sue')]),\n",
       "        Row(\n",
       "            values=[Value(\n",
       "                sVal=b'Tom')]),\n",
       "        Row(\n",
       "            values=[Value(\n",
       "                sVal=b'Wey')])]),\n",
       "    space_name=b'pokemon_club'))"
      ]
     },
     "execution_count": 8,
     "metadata": {},
     "output_type": "execute_result"
    }
   ],
   "source": [
    "%%ngql USE pokemon_club;\n",
    "GO FROM \"Tom\" OVER owns_pokemon YIELD owns_pokemon._dst as pokemon_id \n",
    "| GO FROM $-.pokemon_id OVER owns_pokemon REVERSELY YIELD owns_pokemon._dst AS Trainer_Name;"
   ]
  },
  {
   "cell_type": "code",
   "execution_count": 9,
   "id": "rising-strip",
   "metadata": {},
   "outputs": [],
   "source": [
    "r = _"
   ]
  },
  {
   "cell_type": "code",
   "execution_count": 10,
   "id": "attractive-steel",
   "metadata": {},
   "outputs": [
    {
     "data": {
      "text/plain": [
       "b'Tom'"
      ]
     },
     "execution_count": 10,
     "metadata": {},
     "output_type": "execute_result"
    }
   ],
   "source": [
    "r.column_values(key='Trainer_Name')[0]._value.value"
   ]
  },
  {
   "cell_type": "markdown",
   "id": "located-freeze",
   "metadata": {},
   "source": [
    "> Change back to `pandas` `ngql_result_style`"
   ]
  },
  {
   "cell_type": "code",
   "execution_count": 11,
   "id": "characteristic-preliminary",
   "metadata": {},
   "outputs": [],
   "source": [
    "%config IPythonNGQL.ngql_result_style=\"pandas\""
   ]
  },
  {
   "cell_type": "code",
   "execution_count": 12,
   "id": "commercial-orchestra",
   "metadata": {},
   "outputs": [
    {
     "data": {
      "text/html": [
       "<div>\n",
       "<style scoped>\n",
       "    .dataframe tbody tr th:only-of-type {\n",
       "        vertical-align: middle;\n",
       "    }\n",
       "\n",
       "    .dataframe tbody tr th {\n",
       "        vertical-align: top;\n",
       "    }\n",
       "\n",
       "    .dataframe thead th {\n",
       "        text-align: right;\n",
       "    }\n",
       "</style>\n",
       "<table border=\"1\" class=\"dataframe\">\n",
       "  <thead>\n",
       "    <tr style=\"text-align: right;\">\n",
       "      <th></th>\n",
       "      <th>Trainer_Name</th>\n",
       "    </tr>\n",
       "  </thead>\n",
       "  <tbody>\n",
       "    <tr>\n",
       "      <th>0</th>\n",
       "      <td>Tom</td>\n",
       "    </tr>\n",
       "    <tr>\n",
       "      <th>1</th>\n",
       "      <td>Jerry</td>\n",
       "    </tr>\n",
       "    <tr>\n",
       "      <th>2</th>\n",
       "      <td>Sue</td>\n",
       "    </tr>\n",
       "    <tr>\n",
       "      <th>3</th>\n",
       "      <td>Tom</td>\n",
       "    </tr>\n",
       "    <tr>\n",
       "      <th>4</th>\n",
       "      <td>Wey</td>\n",
       "    </tr>\n",
       "  </tbody>\n",
       "</table>\n",
       "</div>"
      ],
      "text/plain": [
       "  Trainer_Name\n",
       "0          Tom\n",
       "1        Jerry\n",
       "2          Sue\n",
       "3          Tom\n",
       "4          Wey"
      ]
     },
     "execution_count": 12,
     "metadata": {},
     "output_type": "execute_result"
    }
   ],
   "source": [
    "%%ngql\n",
    "GO FROM \"Tom\" OVER owns_pokemon YIELD owns_pokemon._dst as pokemon_id \n",
    "| GO FROM $-.pokemon_id OVER owns_pokemon REVERSELY YIELD owns_pokemon._dst AS Trainer_Name;"
   ]
  },
  {
   "cell_type": "markdown",
   "id": "forbidden-carter",
   "metadata": {},
   "source": [
    "## Only one takeaway: `% ngql help`!\n",
    "All you have to remember is to use `$ngql help` to have all hints :-)"
   ]
  },
  {
   "cell_type": "code",
   "execution_count": 13,
   "id": "loaded-cleaner",
   "metadata": {},
   "outputs": [
    {
     "name": "stdout",
     "output_type": "stream",
     "text": [
      "\n",
      "\n",
      "        Supported Configurations:\n",
      "        ------------------------\n",
      "        \n",
      "        > How to config ngql_result_style in \"raw\", \"pandas\"\n",
      "        %config IPythonNGQL.ngql_result_style=\"raw\"\n",
      "        %config IPythonNGQL.ngql_result_style=\"pandas\"\n",
      "\n",
      "        > How to config ngql_verbose in True, False\n",
      "        %config IPythonNGQL.ngql_verbose=True\n",
      "\n",
      "        > How to config max_connection_pool_size\n",
      "        %config IPythonNGQL.max_connection_pool_size=10\n",
      "\n",
      "        Quick Start:\n",
      "        -----------\n",
      "\n",
      "        > Connect to Neubla Graph\n",
      "        %ngql --address 127.0.0.1 --port 9669 --user user --password password\n",
      "\n",
      "        > Use Space\n",
      "        %ngql USE nba\n",
      "\n",
      "        > Query\n",
      "        %ngql SHOW TAGS;\n",
      "\n",
      "        > Multile Queries\n",
      "        %%ngql\n",
      "        SHOW TAGS;\n",
      "        SHOW HOSTS;\n",
      "\n",
      "        Reload ngql Magic\n",
      "        %reload_ext ngql\n",
      "\n",
      "        > Variables in query, we are using Jinja2 here\n",
      "        name = \"nba\"\n",
      "        %ngql USE \"{{ name }}\"\n",
      "\n",
      "\n",
      "        \n"
     ]
    }
   ],
   "source": [
    "%ngql help"
   ]
  }
 ],
 "metadata": {
  "kernelspec": {
   "display_name": "Python 3",
   "language": "python",
   "name": "python3"
  },
  "language_info": {
   "codemirror_mode": {
    "name": "ipython",
    "version": 3
   },
   "file_extension": ".py",
   "mimetype": "text/x-python",
   "name": "python",
   "nbconvert_exporter": "python",
   "pygments_lexer": "ipython3",
   "version": "3.9.1"
  }
 },
 "nbformat": 4,
 "nbformat_minor": 5
}
