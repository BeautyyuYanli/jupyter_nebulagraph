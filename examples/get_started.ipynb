{
 "cells": [
  {
   "cell_type": "markdown",
   "id": "favorite-value",
   "metadata": {
    "id": "favorite-value"
   },
   "source": [
    "# Get Started With nGQL Jupyter Magic Extension"
   ]
  },
  {
   "cell_type": "code",
   "execution_count": null,
   "id": "-uEoJXBUJBCT",
   "metadata": {
    "id": "-uEoJXBUJBCT"
   },
   "outputs": [],
   "source": [
    "%pip install ipython-ngql"
   ]
  },
  {
   "cell_type": "markdown",
   "id": "m7GeBbhBJXvM",
   "metadata": {
    "id": "m7GeBbhBJXvM"
   },
   "source": [
    "> We need to have a running NebulaGraph Cluster to test this.\n",
    "\n",
    "On Colab, we could leverage [NebulaGraph-Lite](https://github.com/wey-gu/nebulagraph-lite/) to do so, for more options please refer to [NebulaGraph Docs](https://docs.nebula-graph.io)."
   ]
  },
  {
   "cell_type": "code",
   "execution_count": null,
   "id": "DhZ5wSL7Jg9S",
   "metadata": {
    "id": "DhZ5wSL7Jg9S"
   },
   "outputs": [],
   "source": [
    "%pip install nebulagraph-lite"
   ]
  },
  {
   "cell_type": "code",
   "execution_count": 3,
   "id": "OdHPvUUMJ1k4",
   "metadata": {
    "colab": {
     "base_uri": "https://localhost:8080/"
    },
    "executionInfo": {
     "elapsed": 224055,
     "status": "ok",
     "timestamp": 1706077908929,
     "user": {
      "displayName": "",
      "userId": ""
     },
     "user_tz": -480
    },
    "id": "OdHPvUUMJ1k4",
    "outputId": "4acc2d7c-6b85-4146-9e5b-23b5d7a4274f"
   },
   "outputs": [
    {
     "name": "stdout",
     "output_type": "stream",
     "text": [
      "\u001b[1;30;43mStreaming output truncated to the last 5000 lines.\u001b[0m\n",
      "...",
      "var/lib/rpm/__db.002\n",
      "var/lib/rpm/__db.003\n",
      "2ccae830-d547-3d25-8d86-c8e24b20d62e\n",
      "Debug: using curl executable \n",
      "Debug: Localrepo homedir is /home/user/.udocker\n",
      "Debug: using curl executable \n",
      "Debug: already installed, installation skipped\n",
      "\u001b[1;3;38;2;102;81;145mSHOW TAGS: ResultSet(None)\u001b[0m\n",
      "Info: downloading layer sha256:73dde089847b2e7be0b3e12a438aa50dab9d29587a3f37512daf74271d6f7eb1\n",
      "Info: downloading layer sha256:8a5d5aed99ca3dd1343afcb47ea7136fa6350a36a31c12ebc62a6a92ddf1c7ef\n",
      "Info: downloading layer sha256:19bc7f3f0d802b7e8dc89786cfa0e18ab81bc501d90e1d24720d470e4e213c03\n",
      "Info: downloading layer sha256:7264a8db6415046d36d16ba98b79778e18accee6ffa71850405994cffa9be7de\n",
      "\u001b[1;3;38;2;160;81;149mInfo: loading basketballplayer dataset...\u001b[0m\n",
      "\u001b[1;3;38;2;212;80;135m\n",
      "  _   _      _           _        ____                 _     \n",
      " | \\ | | ___| |__  _   _| | __ _ / ___|_ __ __ _ _ __ | |__  \n",
      " |  \\| |/ _ | '_ \\| | | | |/ _` | |  _| '__/ _` | '_ \\| '_ \\ \n",
      " | |\\  |  __| |_) | |_| | | (_| | |_| | | | (_| | |_) | | | |\n",
      " |_| \\_|\\___|_.__/ \\__,_|_|\\__,_|\\____|_|  \\__,_| .__/|_| |_|\n",
      "                                                |_|          \n",
      "                                                lite version\n",
      "\u001b[0m\n",
      "\u001b[1;3;38;2;102;81;145m[ OK ] nebulagraph_lite started successfully!\u001b[0m\n",
      "CONTAINER ID                         P M NAMES              IMAGE               \n",
      "cac33b42-6851-316a-b32c-96641cb38492 . W ['nebula-metad']   vesoft/nebula-metad:v3\n",
      "2ccae830-d547-3d25-8d86-c8e24b20d62e . W ['nebula-storaged'] vesoft/nebula-storaged:v3\n",
      "2887f6d9-a872-3e17-b5cf-8ef4a7eb6e37 . W ['nebula-graphd']  vesoft/nebula-graphd:v3\n"
     ]
    }
   ],
   "source": [
    "from nebulagraph_lite import nebulagraph_let as ng_let\n",
    "\n",
    "n = ng_let()\n",
    "\n",
    "# This takes around 5 mins\n",
    "n.start()"
   ]
  },
  {
   "cell_type": "markdown",
   "id": "british-cream",
   "metadata": {
    "id": "british-cream"
   },
   "source": [
    "## How To Run nGQL in Jupyter or iPython\n",
    "First, install nGQL Magic with pip:\n",
    "```bash\n",
    "!pip install ipython-ngql\n",
    "```\n",
    "Second, load extension:\n",
    "```bash\n",
    "$load_ext ngql\n",
    "```"
   ]
  },
  {
   "cell_type": "code",
   "execution_count": 2,
   "id": "biological-summary",
   "metadata": {
    "executionInfo": {
     "elapsed": 357,
     "status": "ok",
     "timestamp": 1706077961896,
     "user": {
      "displayName": "",
      "userId": ""
     },
     "user_tz": -480
    },
    "id": "biological-summary"
   },
   "outputs": [],
   "source": [
    "%load_ext ngql"
   ]
  },
  {
   "cell_type": "markdown",
   "id": "embedded-olive",
   "metadata": {
    "id": "embedded-olive"
   },
   "source": [
    "## How to Use\n",
    "Connect to Nebula Graph with:\n",
    "\n",
    "```bash\n",
    "%ngql --address <ip> --port <port> --user <username> --password <password>\n",
    "```"
   ]
  },
  {
   "cell_type": "code",
   "execution_count": 5,
   "id": "nasty-angel",
   "metadata": {
    "colab": {
     "base_uri": "https://localhost:8080/",
     "height": 99
    },
    "executionInfo": {
     "elapsed": 377,
     "status": "ok",
     "timestamp": 1706077965991,
     "user": {
      "displayName": "",
      "userId": ""
     },
     "user_tz": -480
    },
    "id": "nasty-angel",
    "outputId": "e7781f17-cb40-4487-d305-fb6ab16d83de"
   },
   "outputs": [
    {
     "name": "stdout",
     "output_type": "stream",
     "text": [
      "Connection Pool Created\n"
     ]
    },
    {
     "data": {
      "text/html": [
       "\n",
       "  <div id=\"df-13afa5dd-140e-4db2-90f7-b56342372013\" class=\"colab-df-container\">\n",
       "    <div>\n",
       "<style scoped>\n",
       "    .dataframe tbody tr th:only-of-type {\n",
       "        vertical-align: middle;\n",
       "    }\n",
       "\n",
       "    .dataframe tbody tr th {\n",
       "        vertical-align: top;\n",
       "    }\n",
       "\n",
       "    .dataframe thead th {\n",
       "        text-align: right;\n",
       "    }\n",
       "</style>\n",
       "<table border=\"1\" class=\"dataframe\">\n",
       "  <thead>\n",
       "    <tr style=\"text-align: right;\">\n",
       "      <th></th>\n",
       "      <th>Name</th>\n",
       "    </tr>\n",
       "  </thead>\n",
       "  <tbody>\n",
       "    <tr>\n",
       "      <th>0</th>\n",
       "      <td>basketballplayer</td>\n",
       "    </tr>\n",
       "  </tbody>\n",
       "</table>\n",
       "</div>\n",
       "    <div class=\"colab-df-buttons\">\n",
       "\n",
       "  <div class=\"colab-df-container\">\n",
       "    <button class=\"colab-df-convert\" onclick=\"convertToInteractive('df-13afa5dd-140e-4db2-90f7-b56342372013')\"\n",
       "            title=\"Convert this dataframe to an interactive table.\"\n",
       "            style=\"display:none;\">\n",
       "\n",
       "  <svg xmlns=\"http://www.w3.org/2000/svg\" height=\"24px\" viewBox=\"0 -960 960 960\">\n",
       "    <path d=\"M120-120v-720h720v720H120Zm60-500h600v-160H180v160Zm220 220h160v-160H400v160Zm0 220h160v-160H400v160ZM180-400h160v-160H180v160Zm440 0h160v-160H620v160ZM180-180h160v-160H180v160Zm440 0h160v-160H620v160Z\"/>\n",
       "  </svg>\n",
       "    </button>\n",
       "\n",
       "  <style>\n",
       "    .colab-df-container {\n",
       "      display:flex;\n",
       "      gap: 12px;\n",
       "    }\n",
       "\n",
       "    .colab-df-convert {\n",
       "      background-color: #E8F0FE;\n",
       "      border: none;\n",
       "      border-radius: 50%;\n",
       "      cursor: pointer;\n",
       "      display: none;\n",
       "      fill: #1967D2;\n",
       "      height: 32px;\n",
       "      padding: 0 0 0 0;\n",
       "      width: 32px;\n",
       "    }\n",
       "\n",
       "    .colab-df-convert:hover {\n",
       "      background-color: #E2EBFA;\n",
       "      box-shadow: 0px 1px 2px rgba(60, 64, 67, 0.3), 0px 1px 3px 1px rgba(60, 64, 67, 0.15);\n",
       "      fill: #174EA6;\n",
       "    }\n",
       "\n",
       "    .colab-df-buttons div {\n",
       "      margin-bottom: 4px;\n",
       "    }\n",
       "\n",
       "    [theme=dark] .colab-df-convert {\n",
       "      background-color: #3B4455;\n",
       "      fill: #D2E3FC;\n",
       "    }\n",
       "\n",
       "    [theme=dark] .colab-df-convert:hover {\n",
       "      background-color: #434B5C;\n",
       "      box-shadow: 0px 1px 3px 1px rgba(0, 0, 0, 0.15);\n",
       "      filter: drop-shadow(0px 1px 2px rgba(0, 0, 0, 0.3));\n",
       "      fill: #FFFFFF;\n",
       "    }\n",
       "  </style>\n",
       "\n",
       "    <script>\n",
       "      const buttonEl =\n",
       "        document.querySelector('#df-13afa5dd-140e-4db2-90f7-b56342372013 button.colab-df-convert');\n",
       "      buttonEl.style.display =\n",
       "        google.colab.kernel.accessAllowed ? 'block' : 'none';\n",
       "\n",
       "      async function convertToInteractive(key) {\n",
       "        const element = document.querySelector('#df-13afa5dd-140e-4db2-90f7-b56342372013');\n",
       "        const dataTable =\n",
       "          await google.colab.kernel.invokeFunction('convertToInteractive',\n",
       "                                                    [key], {});\n",
       "        if (!dataTable) return;\n",
       "\n",
       "        const docLinkHtml = 'Like what you see? Visit the ' +\n",
       "          '<a target=\"_blank\" href=https://colab.research.google.com/notebooks/data_table.ipynb>data table notebook</a>'\n",
       "          + ' to learn more about interactive tables.';\n",
       "        element.innerHTML = '';\n",
       "        dataTable['output_type'] = 'display_data';\n",
       "        await google.colab.output.renderOutput(dataTable, element);\n",
       "        const docLink = document.createElement('div');\n",
       "        docLink.innerHTML = docLinkHtml;\n",
       "        element.appendChild(docLink);\n",
       "      }\n",
       "    </script>\n",
       "  </div>\n",
       "\n",
       "    </div>\n",
       "  </div>\n"
      ],
      "text/plain": [
       "               Name\n",
       "0  basketballplayer"
      ]
     },
     "execution_count": 5,
     "metadata": {},
     "output_type": "execute_result"
    }
   ],
   "source": [
    "%ngql --address 127.0.0.1 --port 9669 --user root --password nebula"
   ]
  },
  {
   "cell_type": "markdown",
   "id": "necessary-performance",
   "metadata": {
    "id": "necessary-performance"
   },
   "source": [
    "Make a query after `Connection Pool Created` shown in the connection from last step:\n",
    "\n",
    "\n",
    "Option 1, it supports one line query as:\n",
    "```ngql\n",
    "%ngql <query_line>;\n",
    "```\n",
    "Option 2, it also supports multiple queries:\n",
    "\n",
    "```ngql\n",
    "%%ngql\n",
    "<line 0>;\n",
    "<line 1>;\n",
    "```\n",
    "\n",
    "> Note, we will support a 3rd option to enable runing lines from `.ngql` file soon."
   ]
  },
  {
   "cell_type": "code",
   "execution_count": 4,
   "id": "copyrighted-aberdeen",
   "metadata": {
    "colab": {
     "base_uri": "https://localhost:8080/",
     "height": 112
    },
    "executionInfo": {
     "elapsed": 341,
     "status": "ok",
     "timestamp": 1706077972270,
     "user": {
      "displayName": "",
      "userId": ""
     },
     "user_tz": -480
    },
    "id": "copyrighted-aberdeen",
    "outputId": "4038c20f-e55c-4dd8-9fd2-427da5d1e568"
   },
   "outputs": [
    {
     "data": {
      "text/html": [
       "<div>\n",
       "<style scoped>\n",
       "    .dataframe tbody tr th:only-of-type {\n",
       "        vertical-align: middle;\n",
       "    }\n",
       "\n",
       "    .dataframe tbody tr th {\n",
       "        vertical-align: top;\n",
       "    }\n",
       "\n",
       "    .dataframe thead th {\n",
       "        text-align: right;\n",
       "    }\n",
       "</style>\n",
       "<table border=\"1\" class=\"dataframe\">\n",
       "  <thead>\n",
       "    <tr style=\"text-align: right;\">\n",
       "      <th></th>\n",
       "      <th>Name</th>\n",
       "    </tr>\n",
       "  </thead>\n",
       "  <tbody>\n",
       "    <tr>\n",
       "      <th>0</th>\n",
       "      <td>Tony Parker</td>\n",
       "    </tr>\n",
       "    <tr>\n",
       "      <th>1</th>\n",
       "      <td>Manu Ginobili</td>\n",
       "    </tr>\n",
       "  </tbody>\n",
       "</table>\n",
       "</div>"
      ],
      "text/plain": [
       "            Name\n",
       "0    Tony Parker\n",
       "1  Manu Ginobili"
      ]
     },
     "execution_count": 4,
     "metadata": {},
     "output_type": "execute_result"
    }
   ],
   "source": [
    "%ngql USE basketballplayer;\n",
    "%ngql MATCH (v:player{name:\"Tim Duncan\"})-->(v2:player) RETURN v2.player.name AS Name;"
   ]
  },
  {
   "cell_type": "code",
   "execution_count": 5,
   "id": "northern-anatomy",
   "metadata": {
    "colab": {
     "base_uri": "https://localhost:8080/",
     "height": 81
    },
    "executionInfo": {
     "elapsed": 546,
     "status": "ok",
     "timestamp": 1706077976246,
     "user": {
      "displayName": "",
      "userId": ""
     },
     "user_tz": -480
    },
    "id": "northern-anatomy",
    "outputId": "72c0fda5-530d-4b14-dd82-4f70ca8e0f0f"
   },
   "outputs": [
    {
     "data": {
      "text/html": [
       "<div>\n",
       "<style scoped>\n",
       "    .dataframe tbody tr th:only-of-type {\n",
       "        vertical-align: middle;\n",
       "    }\n",
       "\n",
       "    .dataframe tbody tr th {\n",
       "        vertical-align: top;\n",
       "    }\n",
       "\n",
       "    .dataframe thead th {\n",
       "        text-align: right;\n",
       "    }\n",
       "</style>\n",
       "<table border=\"1\" class=\"dataframe\">\n",
       "  <thead>\n",
       "    <tr style=\"text-align: right;\">\n",
       "      <th></th>\n",
       "      <th>Host</th>\n",
       "      <th>Port</th>\n",
       "      <th>Status</th>\n",
       "      <th>Leader count</th>\n",
       "      <th>Leader distribution</th>\n",
       "      <th>Partition distribution</th>\n",
       "      <th>Version</th>\n",
       "    </tr>\n",
       "  </thead>\n",
       "  <tbody>\n",
       "    <tr>\n",
       "      <th>0</th>\n",
       "      <td>storaged0</td>\n",
       "      <td>9779</td>\n",
       "      <td>ONLINE</td>\n",
       "      <td>211</td>\n",
       "      <td>basketballplayer:3, csci_demo:33, customer_ser...</td>\n",
       "      <td>basketballplayer:3, csci_demo:33, customer_ser...</td>\n",
       "      <td>3.6.0</td>\n",
       "    </tr>\n",
       "    <tr>\n",
       "      <th>1</th>\n",
       "      <td>storaged1</td>\n",
       "      <td>9779</td>\n",
       "      <td>ONLINE</td>\n",
       "      <td>210</td>\n",
       "      <td>basketballplayer:3, csci_demo:33, customer_ser...</td>\n",
       "      <td>basketballplayer:3, csci_demo:33, customer_ser...</td>\n",
       "      <td>3.6.0</td>\n",
       "    </tr>\n",
       "    <tr>\n",
       "      <th>2</th>\n",
       "      <td>storaged2</td>\n",
       "      <td>9779</td>\n",
       "      <td>ONLINE</td>\n",
       "      <td>229</td>\n",
       "      <td>basketballplayer:4, chinese_kg:1, coe:1, csci_...</td>\n",
       "      <td>basketballplayer:4, chinese_kg:1, coe:1, csci_...</td>\n",
       "      <td>3.6.0</td>\n",
       "    </tr>\n",
       "  </tbody>\n",
       "</table>\n",
       "</div>"
      ],
      "text/plain": [
       "        Host  Port  Status  Leader count  \\\n",
       "0  storaged0  9779  ONLINE           211   \n",
       "1  storaged1  9779  ONLINE           210   \n",
       "2  storaged2  9779  ONLINE           229   \n",
       "\n",
       "                                 Leader distribution  \\\n",
       "0  basketballplayer:3, csci_demo:33, customer_ser...   \n",
       "1  basketballplayer:3, csci_demo:33, customer_ser...   \n",
       "2  basketballplayer:4, chinese_kg:1, coe:1, csci_...   \n",
       "\n",
       "                              Partition distribution Version  \n",
       "0  basketballplayer:3, csci_demo:33, customer_ser...   3.6.0  \n",
       "1  basketballplayer:3, csci_demo:33, customer_ser...   3.6.0  \n",
       "2  basketballplayer:4, chinese_kg:1, coe:1, csci_...   3.6.0  "
      ]
     },
     "execution_count": 5,
     "metadata": {},
     "output_type": "execute_result"
    }
   ],
   "source": [
    "%%ngql\n",
    "SHOW TAGS;\n",
    "SHOW HOSTS;"
   ]
  },
  {
   "cell_type": "markdown",
   "id": "apart-questionnaire",
   "metadata": {
    "id": "apart-questionnaire"
   },
   "source": [
    "> It's quite easy, right?\n",
    "You could get help by `%ngql help` for some advanced usage:\n",
    "\n",
    "```ngql\n",
    "%ngql help\n",
    "```"
   ]
  },
  {
   "cell_type": "markdown",
   "id": "oriental-vault",
   "metadata": {
    "id": "oriental-vault"
   },
   "source": [
    "### Using Variables in Query String\n",
    "\n",
    "We used Jinja2(https://jinja.palletsprojects.com/) as templating method for variables in query string:\n",
    "\n",
    "```python\n",
    "trainer = \"Sue\"\n",
    "```\n",
    "\n",
    "```ngql\n",
    "%%ngql\n",
    "GO FROM \"{{ trainer }}\" OVER owns_pokemon YIELD owns_pokemon._dst as pokemon_id | GO FROM $-.pokemon_id OVER owns_pokemon REVERSELY YIELD owns_pokemon._dst AS Trainer_Name;\n",
    "```"
   ]
  },
  {
   "cell_type": "code",
   "execution_count": 6,
   "id": "disciplinary-sustainability",
   "metadata": {
    "executionInfo": {
     "elapsed": 402,
     "status": "ok",
     "timestamp": 1706078004996,
     "user": {
      "displayName": "",
      "userId": ""
     },
     "user_tz": -480
    },
    "id": "disciplinary-sustainability"
   },
   "outputs": [],
   "source": [
    "vid = \"player100\""
   ]
  },
  {
   "cell_type": "code",
   "execution_count": 7,
   "id": "bizarre-absorption",
   "metadata": {
    "colab": {
     "base_uri": "https://localhost:8080/",
     "height": 143
    },
    "executionInfo": {
     "elapsed": 341,
     "status": "ok",
     "timestamp": 1706078009305,
     "user": {
      "displayName": "",
      "userId": ""
     },
     "user_tz": -480
    },
    "id": "bizarre-absorption",
    "outputId": "c7d858ac-f28a-4c4e-a840-47828f55237c"
   },
   "outputs": [
    {
     "data": {
      "text/html": [
       "<div>\n",
       "<style scoped>\n",
       "    .dataframe tbody tr th:only-of-type {\n",
       "        vertical-align: middle;\n",
       "    }\n",
       "\n",
       "    .dataframe tbody tr th {\n",
       "        vertical-align: top;\n",
       "    }\n",
       "\n",
       "    .dataframe thead th {\n",
       "        text-align: right;\n",
       "    }\n",
       "</style>\n",
       "<table border=\"1\" class=\"dataframe\">\n",
       "  <thead>\n",
       "    <tr style=\"text-align: right;\">\n",
       "      <th></th>\n",
       "      <th>FriendOf</th>\n",
       "      <th>Team</th>\n",
       "    </tr>\n",
       "  </thead>\n",
       "  <tbody>\n",
       "    <tr>\n",
       "      <th>0</th>\n",
       "      <td>Dejounte Murray</td>\n",
       "      <td>Spurs</td>\n",
       "    </tr>\n",
       "    <tr>\n",
       "      <th>1</th>\n",
       "      <td>Shaquille O'Neal</td>\n",
       "      <td>Lakers</td>\n",
       "    </tr>\n",
       "    <tr>\n",
       "      <th>2</th>\n",
       "      <td>Shaquille O'Neal</td>\n",
       "      <td>Suns</td>\n",
       "    </tr>\n",
       "  </tbody>\n",
       "</table>\n",
       "</div>"
      ],
      "text/plain": [
       "           FriendOf    Team\n",
       "0   Dejounte Murray   Spurs\n",
       "1  Shaquille O'Neal  Lakers\n",
       "2  Shaquille O'Neal    Suns"
      ]
     },
     "execution_count": 7,
     "metadata": {},
     "output_type": "execute_result"
    }
   ],
   "source": [
    "%%ngql\n",
    "MATCH (v)<-[e:follow]- (v2)-[e2:serve]->(v3)\n",
    "  WHERE id(v) == \"{{ vid }}\"\n",
    "RETURN v2.player.name AS FriendOf, v3.team.name AS Team LIMIT 3;"
   ]
  },
  {
   "cell_type": "markdown",
   "id": "motivated-pantyhose",
   "metadata": {
    "id": "motivated-pantyhose"
   },
   "source": [
    "### Using Raw thrift data type as result\n",
    "By default the result `ngql_result_style` is `pandas`, this enabled us to have table view renderred by Jupyter Notebook.\n",
    "\n",
    "While, if you would like to get raw results from `neutron2-python` itself, just configure it as below on the fly:\n",
    "\n",
    "```\n",
    "%config IPythonNGQL.ngql_result_style=\"raw\"\n",
    "```\n",
    "\n",
    "And after querying, the result will be stored in `_`, plesae then refer it to a new variable for further ad-hoc tweaking on it like:\n",
    "```\n",
    "$ngql <query>;\n",
    "\n",
    "result = _\n",
    "\n",
    "dir(result)\n",
    "```"
   ]
  },
  {
   "cell_type": "code",
   "execution_count": 10,
   "id": "designed-civilian",
   "metadata": {
    "executionInfo": {
     "elapsed": 342,
     "status": "ok",
     "timestamp": 1706078015530,
     "user": {
      "displayName": "",
      "userId": ""
     },
     "user_tz": -480
    },
    "id": "designed-civilian"
   },
   "outputs": [],
   "source": [
    "%config IPythonNGQL.ngql_result_style=\"raw\""
   ]
  },
  {
   "cell_type": "code",
   "execution_count": 11,
   "id": "quiet-armor",
   "metadata": {
    "colab": {
     "base_uri": "https://localhost:8080/"
    },
    "executionInfo": {
     "elapsed": 407,
     "status": "ok",
     "timestamp": 1706078017639,
     "user": {
      "displayName": "",
      "userId": ""
     },
     "user_tz": -480
    },
    "id": "quiet-armor",
    "outputId": "bfc8cbe2-bdf9-4ed3-fa82-ac263970a349"
   },
   "outputs": [
    {
     "data": {
      "text/plain": [
       "ResultSet(keys: ['dst(EDGE)'], values: [\"player100\"],[\"player102\"],[\"player125\"],[\"player101\"],[\"player125\"])"
      ]
     },
     "execution_count": 11,
     "metadata": {},
     "output_type": "execute_result"
    }
   ],
   "source": [
    "%%ngql USE basketballplayer;\n",
    "GO 2 STEPS FROM \"player102\" OVER follow YIELD dst(edge);"
   ]
  },
  {
   "cell_type": "code",
   "execution_count": 12,
   "id": "rising-strip",
   "metadata": {
    "executionInfo": {
     "elapsed": 2,
     "status": "ok",
     "timestamp": 1706078020285,
     "user": {
      "displayName": "",
      "userId": ""
     },
     "user_tz": -480
    },
    "id": "rising-strip"
   },
   "outputs": [],
   "source": [
    "r = _"
   ]
  },
  {
   "cell_type": "code",
   "execution_count": 13,
   "id": "attractive-steel",
   "metadata": {
    "colab": {
     "base_uri": "https://localhost:8080/",
     "height": 35
    },
    "executionInfo": {
     "elapsed": 6,
     "status": "ok",
     "timestamp": 1706078023781,
     "user": {
      "displayName": "",
      "userId": ""
     },
     "user_tz": -480
    },
    "id": "attractive-steel",
    "outputId": "22aa1c6b-9fda-4609-a789-1bdf8c789e09"
   },
   "outputs": [
    {
     "data": {
      "application/vnd.google.colaboratory.intrinsic+json": {
       "type": "string"
      },
      "text/plain": [
       "'player100'"
      ]
     },
     "execution_count": 13,
     "metadata": {},
     "output_type": "execute_result"
    }
   ],
   "source": [
    "r.column_values(\"dst(EDGE)\")[0].cast()"
   ]
  },
  {
   "cell_type": "markdown",
   "id": "located-freeze",
   "metadata": {
    "id": "located-freeze"
   },
   "source": [
    "> Change back to `pandas` `ngql_result_style`"
   ]
  },
  {
   "cell_type": "code",
   "execution_count": 14,
   "id": "characteristic-preliminary",
   "metadata": {
    "executionInfo": {
     "elapsed": 340,
     "status": "ok",
     "timestamp": 1706078032235,
     "user": {
      "displayName": "",
      "userId": ""
     },
     "user_tz": -480
    },
    "id": "characteristic-preliminary"
   },
   "outputs": [],
   "source": [
    "%config IPythonNGQL.ngql_result_style=\"pandas\""
   ]
  },
  {
   "cell_type": "code",
   "execution_count": 15,
   "id": "commercial-orchestra",
   "metadata": {
    "colab": {
     "base_uri": "https://localhost:8080/",
     "height": 143
    },
    "executionInfo": {
     "elapsed": 6,
     "status": "ok",
     "timestamp": 1706078033643,
     "user": {
      "displayName": "",
      "userId": ""
     },
     "user_tz": -480
    },
    "id": "commercial-orchestra",
    "outputId": "ee9e9dba-788e-4f05-fe37-38021fa386c0"
   },
   "outputs": [
    {
     "data": {
      "text/html": [
       "\n",
       "  <div id=\"df-0e42635d-83c8-4b7e-b599-7cf799394856\" class=\"colab-df-container\">\n",
       "    <div>\n",
       "<style scoped>\n",
       "    .dataframe tbody tr th:only-of-type {\n",
       "        vertical-align: middle;\n",
       "    }\n",
       "\n",
       "    .dataframe tbody tr th {\n",
       "        vertical-align: top;\n",
       "    }\n",
       "\n",
       "    .dataframe thead th {\n",
       "        text-align: right;\n",
       "    }\n",
       "</style>\n",
       "<table border=\"1\" class=\"dataframe\">\n",
       "  <thead>\n",
       "    <tr style=\"text-align: right;\">\n",
       "      <th></th>\n",
       "      <th>team_name</th>\n",
       "      <th>start_year</th>\n",
       "      <th>player_name</th>\n",
       "    </tr>\n",
       "  </thead>\n",
       "  <tbody>\n",
       "    <tr>\n",
       "      <th>0</th>\n",
       "      <td>Spurs</td>\n",
       "      <td>1997</td>\n",
       "      <td>Tim Duncan</td>\n",
       "    </tr>\n",
       "    <tr>\n",
       "      <th>1</th>\n",
       "      <td>Trail Blazers</td>\n",
       "      <td>2006</td>\n",
       "      <td>LaMarcus Aldridge</td>\n",
       "    </tr>\n",
       "    <tr>\n",
       "      <th>2</th>\n",
       "      <td>Spurs</td>\n",
       "      <td>2015</td>\n",
       "      <td>LaMarcus Aldridge</td>\n",
       "    </tr>\n",
       "  </tbody>\n",
       "</table>\n",
       "</div>\n",
       "    <div class=\"colab-df-buttons\">\n",
       "\n",
       "  <div class=\"colab-df-container\">\n",
       "    <button class=\"colab-df-convert\" onclick=\"convertToInteractive('df-0e42635d-83c8-4b7e-b599-7cf799394856')\"\n",
       "            title=\"Convert this dataframe to an interactive table.\"\n",
       "            style=\"display:none;\">\n",
       "\n",
       "  <svg xmlns=\"http://www.w3.org/2000/svg\" height=\"24px\" viewBox=\"0 -960 960 960\">\n",
       "    <path d=\"M120-120v-720h720v720H120Zm60-500h600v-160H180v160Zm220 220h160v-160H400v160Zm0 220h160v-160H400v160ZM180-400h160v-160H180v160Zm440 0h160v-160H620v160ZM180-180h160v-160H180v160Zm440 0h160v-160H620v160Z\"/>\n",
       "  </svg>\n",
       "    </button>\n",
       "\n",
       "  <style>\n",
       "    .colab-df-container {\n",
       "      display:flex;\n",
       "      gap: 12px;\n",
       "    }\n",
       "\n",
       "    .colab-df-convert {\n",
       "      background-color: #E8F0FE;\n",
       "      border: none;\n",
       "      border-radius: 50%;\n",
       "      cursor: pointer;\n",
       "      display: none;\n",
       "      fill: #1967D2;\n",
       "      height: 32px;\n",
       "      padding: 0 0 0 0;\n",
       "      width: 32px;\n",
       "    }\n",
       "\n",
       "    .colab-df-convert:hover {\n",
       "      background-color: #E2EBFA;\n",
       "      box-shadow: 0px 1px 2px rgba(60, 64, 67, 0.3), 0px 1px 3px 1px rgba(60, 64, 67, 0.15);\n",
       "      fill: #174EA6;\n",
       "    }\n",
       "\n",
       "    .colab-df-buttons div {\n",
       "      margin-bottom: 4px;\n",
       "    }\n",
       "\n",
       "    [theme=dark] .colab-df-convert {\n",
       "      background-color: #3B4455;\n",
       "      fill: #D2E3FC;\n",
       "    }\n",
       "\n",
       "    [theme=dark] .colab-df-convert:hover {\n",
       "      background-color: #434B5C;\n",
       "      box-shadow: 0px 1px 3px 1px rgba(0, 0, 0, 0.15);\n",
       "      filter: drop-shadow(0px 1px 2px rgba(0, 0, 0, 0.3));\n",
       "      fill: #FFFFFF;\n",
       "    }\n",
       "  </style>\n",
       "\n",
       "    <script>\n",
       "      const buttonEl =\n",
       "        document.querySelector('#df-0e42635d-83c8-4b7e-b599-7cf799394856 button.colab-df-convert');\n",
       "      buttonEl.style.display =\n",
       "        google.colab.kernel.accessAllowed ? 'block' : 'none';\n",
       "\n",
       "      async function convertToInteractive(key) {\n",
       "        const element = document.querySelector('#df-0e42635d-83c8-4b7e-b599-7cf799394856');\n",
       "        const dataTable =\n",
       "          await google.colab.kernel.invokeFunction('convertToInteractive',\n",
       "                                                    [key], {});\n",
       "        if (!dataTable) return;\n",
       "\n",
       "        const docLinkHtml = 'Like what you see? Visit the ' +\n",
       "          '<a target=\"_blank\" href=https://colab.research.google.com/notebooks/data_table.ipynb>data table notebook</a>'\n",
       "          + ' to learn more about interactive tables.';\n",
       "        element.innerHTML = '';\n",
       "        dataTable['output_type'] = 'display_data';\n",
       "        await google.colab.output.renderOutput(dataTable, element);\n",
       "        const docLink = document.createElement('div');\n",
       "        docLink.innerHTML = docLinkHtml;\n",
       "        element.appendChild(docLink);\n",
       "      }\n",
       "    </script>\n",
       "  </div>\n",
       "\n",
       "\n",
       "<div id=\"df-fd16dae3-a1be-4d63-b388-851b937d8936\">\n",
       "  <button class=\"colab-df-quickchart\" onclick=\"quickchart('df-fd16dae3-a1be-4d63-b388-851b937d8936')\"\n",
       "            title=\"Suggest charts\"\n",
       "            style=\"display:none;\">\n",
       "\n",
       "<svg xmlns=\"http://www.w3.org/2000/svg\" height=\"24px\"viewBox=\"0 0 24 24\"\n",
       "     width=\"24px\">\n",
       "    <g>\n",
       "        <path d=\"M19 3H5c-1.1 0-2 .9-2 2v14c0 1.1.9 2 2 2h14c1.1 0 2-.9 2-2V5c0-1.1-.9-2-2-2zM9 17H7v-7h2v7zm4 0h-2V7h2v10zm4 0h-2v-4h2v4z\"/>\n",
       "    </g>\n",
       "</svg>\n",
       "  </button>\n",
       "\n",
       "<style>\n",
       "  .colab-df-quickchart {\n",
       "      --bg-color: #E8F0FE;\n",
       "      --fill-color: #1967D2;\n",
       "      --hover-bg-color: #E2EBFA;\n",
       "      --hover-fill-color: #174EA6;\n",
       "      --disabled-fill-color: #AAA;\n",
       "      --disabled-bg-color: #DDD;\n",
       "  }\n",
       "\n",
       "  [theme=dark] .colab-df-quickchart {\n",
       "      --bg-color: #3B4455;\n",
       "      --fill-color: #D2E3FC;\n",
       "      --hover-bg-color: #434B5C;\n",
       "      --hover-fill-color: #FFFFFF;\n",
       "      --disabled-bg-color: #3B4455;\n",
       "      --disabled-fill-color: #666;\n",
       "  }\n",
       "\n",
       "  .colab-df-quickchart {\n",
       "    background-color: var(--bg-color);\n",
       "    border: none;\n",
       "    border-radius: 50%;\n",
       "    cursor: pointer;\n",
       "    display: none;\n",
       "    fill: var(--fill-color);\n",
       "    height: 32px;\n",
       "    padding: 0;\n",
       "    width: 32px;\n",
       "  }\n",
       "\n",
       "  .colab-df-quickchart:hover {\n",
       "    background-color: var(--hover-bg-color);\n",
       "    box-shadow: 0 1px 2px rgba(60, 64, 67, 0.3), 0 1px 3px 1px rgba(60, 64, 67, 0.15);\n",
       "    fill: var(--button-hover-fill-color);\n",
       "  }\n",
       "\n",
       "  .colab-df-quickchart-complete:disabled,\n",
       "  .colab-df-quickchart-complete:disabled:hover {\n",
       "    background-color: var(--disabled-bg-color);\n",
       "    fill: var(--disabled-fill-color);\n",
       "    box-shadow: none;\n",
       "  }\n",
       "\n",
       "  .colab-df-spinner {\n",
       "    border: 2px solid var(--fill-color);\n",
       "    border-color: transparent;\n",
       "    border-bottom-color: var(--fill-color);\n",
       "    animation:\n",
       "      spin 1s steps(1) infinite;\n",
       "  }\n",
       "\n",
       "  @keyframes spin {\n",
       "    0% {\n",
       "      border-color: transparent;\n",
       "      border-bottom-color: var(--fill-color);\n",
       "      border-left-color: var(--fill-color);\n",
       "    }\n",
       "    20% {\n",
       "      border-color: transparent;\n",
       "      border-left-color: var(--fill-color);\n",
       "      border-top-color: var(--fill-color);\n",
       "    }\n",
       "    30% {\n",
       "      border-color: transparent;\n",
       "      border-left-color: var(--fill-color);\n",
       "      border-top-color: var(--fill-color);\n",
       "      border-right-color: var(--fill-color);\n",
       "    }\n",
       "    40% {\n",
       "      border-color: transparent;\n",
       "      border-right-color: var(--fill-color);\n",
       "      border-top-color: var(--fill-color);\n",
       "    }\n",
       "    60% {\n",
       "      border-color: transparent;\n",
       "      border-right-color: var(--fill-color);\n",
       "    }\n",
       "    80% {\n",
       "      border-color: transparent;\n",
       "      border-right-color: var(--fill-color);\n",
       "      border-bottom-color: var(--fill-color);\n",
       "    }\n",
       "    90% {\n",
       "      border-color: transparent;\n",
       "      border-bottom-color: var(--fill-color);\n",
       "    }\n",
       "  }\n",
       "</style>\n",
       "\n",
       "  <script>\n",
       "    async function quickchart(key) {\n",
       "      const quickchartButtonEl =\n",
       "        document.querySelector('#' + key + ' button');\n",
       "      quickchartButtonEl.disabled = true;  // To prevent multiple clicks.\n",
       "      quickchartButtonEl.classList.add('colab-df-spinner');\n",
       "      try {\n",
       "        const charts = await google.colab.kernel.invokeFunction(\n",
       "            'suggestCharts', [key], {});\n",
       "      } catch (error) {\n",
       "        console.error('Error during call to suggestCharts:', error);\n",
       "      }\n",
       "      quickchartButtonEl.classList.remove('colab-df-spinner');\n",
       "      quickchartButtonEl.classList.add('colab-df-quickchart-complete');\n",
       "    }\n",
       "    (() => {\n",
       "      let quickchartButtonEl =\n",
       "        document.querySelector('#df-fd16dae3-a1be-4d63-b388-851b937d8936 button');\n",
       "      quickchartButtonEl.style.display =\n",
       "        google.colab.kernel.accessAllowed ? 'block' : 'none';\n",
       "    })();\n",
       "  </script>\n",
       "</div>\n",
       "    </div>\n",
       "  </div>\n"
      ],
      "text/plain": [
       "       team_name  start_year        player_name\n",
       "0          Spurs        1997         Tim Duncan\n",
       "1  Trail Blazers        2006  LaMarcus Aldridge\n",
       "2          Spurs        2015  LaMarcus Aldridge"
      ]
     },
     "execution_count": 15,
     "metadata": {},
     "output_type": "execute_result"
    }
   ],
   "source": [
    "%%ngql\n",
    "GO FROM \"player100\", \"player102\" OVER serve \\\n",
    "  WHERE properties(edge).start_year > 1995 \\\n",
    "YIELD DISTINCT properties($$).name AS team_name, properties(edge).start_year AS start_year, properties($^).name AS player_name;"
   ]
  },
  {
   "cell_type": "markdown",
   "id": "0f04c49d",
   "metadata": {
    "id": "0f04c49d"
   },
   "source": [
    "# Draw nGQL queries"
   ]
  },
  {
   "cell_type": "markdown",
   "id": "519ea8a1",
   "metadata": {
    "id": "519ea8a1"
   },
   "source": [
    "> This depends on pyvis"
   ]
  },
  {
   "cell_type": "code",
   "execution_count": null,
   "id": "c911efa2",
   "metadata": {
    "colab": {
     "base_uri": "https://localhost:8080/"
    },
    "executionInfo": {
     "elapsed": 6848,
     "status": "ok",
     "timestamp": 1706078044846,
     "user": {
      "displayName": "",
      "userId": ""
     },
     "user_tz": -480
    },
    "id": "c911efa2",
    "outputId": "2df4fb7d-262a-44ce-af45-4209f194812b"
   },
   "outputs": [],
   "source": [
    "%pip install pyvis"
   ]
  },
  {
   "cell_type": "code",
   "execution_count": 8,
   "id": "423e852e",
   "metadata": {
    "colab": {
     "base_uri": "https://localhost:8080/",
     "height": 206
    },
    "executionInfo": {
     "elapsed": 370,
     "status": "ok",
     "timestamp": 1706078049624,
     "user": {
      "displayName": "",
      "userId": ""
     },
     "user_tz": -480
    },
    "id": "423e852e",
    "outputId": "9efd9266-e978-4030-942a-de4e5dccb888"
   },
   "outputs": [
    {
     "data": {
      "text/html": [
       "<div>\n",
       "<style scoped>\n",
       "    .dataframe tbody tr th:only-of-type {\n",
       "        vertical-align: middle;\n",
       "    }\n",
       "\n",
       "    .dataframe tbody tr th {\n",
       "        vertical-align: top;\n",
       "    }\n",
       "\n",
       "    .dataframe thead th {\n",
       "        text-align: right;\n",
       "    }\n",
       "</style>\n",
       "<table border=\"1\" class=\"dataframe\">\n",
       "  <thead>\n",
       "    <tr style=\"text-align: right;\">\n",
       "      <th></th>\n",
       "      <th>p</th>\n",
       "    </tr>\n",
       "  </thead>\n",
       "  <tbody>\n",
       "    <tr>\n",
       "      <th>0</th>\n",
       "      <td>(\"player147\" :player{age: 36, name: \"Amar'e St...</td>\n",
       "    </tr>\n",
       "    <tr>\n",
       "      <th>1</th>\n",
       "      <td>(\"player147\" :player{age: 36, name: \"Amar'e St...</td>\n",
       "    </tr>\n",
       "    <tr>\n",
       "      <th>2</th>\n",
       "      <td>(\"player147\" :player{age: 36, name: \"Amar'e St...</td>\n",
       "    </tr>\n",
       "    <tr>\n",
       "      <th>3</th>\n",
       "      <td>(\"player147\" :player{age: 36, name: \"Amar'e St...</td>\n",
       "    </tr>\n",
       "    <tr>\n",
       "      <th>4</th>\n",
       "      <td>(\"player146\" :player{age: 33, name: \"Dwight Ho...</td>\n",
       "    </tr>\n",
       "  </tbody>\n",
       "</table>\n",
       "</div>"
      ],
      "text/plain": [
       "                                                   p\n",
       "0  (\"player147\" :player{age: 36, name: \"Amar'e St...\n",
       "1  (\"player147\" :player{age: 36, name: \"Amar'e St...\n",
       "2  (\"player147\" :player{age: 36, name: \"Amar'e St...\n",
       "3  (\"player147\" :player{age: 36, name: \"Amar'e St...\n",
       "4  (\"player146\" :player{age: 33, name: \"Dwight Ho..."
      ]
     },
     "execution_count": 8,
     "metadata": {},
     "output_type": "execute_result"
    }
   ],
   "source": [
    "%ngql match p=(:player)-[]->() return p LIMIT 5"
   ]
  },
  {
   "cell_type": "code",
   "execution_count": 9,
   "id": "69171089",
   "metadata": {
    "colab": {
     "base_uri": "https://localhost:8080/",
     "height": 551
    },
    "executionInfo": {
     "elapsed": 1061,
     "status": "ok",
     "timestamp": 1706078054927,
     "user": {
      "displayName": "",
      "userId": ""
     },
     "user_tz": -480
    },
    "id": "69171089",
    "outputId": "2967aa3e-ef9a-44b8-fd3e-d4957f53c546"
   },
   "outputs": [
    {
     "data": {
      "text/html": [
       "\n",
       "        <iframe\n",
       "            width=\"100%\"\n",
       "            height=\"500px\"\n",
       "            src=\"nebulagraph.html\"\n",
       "            frameborder=\"0\"\n",
       "            allowfullscreen\n",
       "            \n",
       "        ></iframe>\n",
       "        "
      ],
      "text/plain": [
       "<IPython.lib.display.IFrame at 0x1110050d0>"
      ]
     },
     "metadata": {},
     "output_type": "display_data"
    },
    {
     "data": {
      "text/plain": [
       "<class 'pyvis.network.Network'> |N|=7 |E|=5"
      ]
     },
     "execution_count": 9,
     "metadata": {},
     "output_type": "execute_result"
    }
   ],
   "source": [
    "%ng_draw"
   ]
  },
  {
   "cell_type": "code",
   "execution_count": 10,
   "id": "84ac453e",
   "metadata": {
    "colab": {
     "base_uri": "https://localhost:8080/",
     "height": 143
    },
    "executionInfo": {
     "elapsed": 362,
     "status": "ok",
     "timestamp": 1706078064695,
     "user": {
      "displayName": "",
      "userId": ""
     },
     "user_tz": -480
    },
    "id": "84ac453e",
    "outputId": "11e36af5-b107-4a1c-d18c-4c350a238f42"
   },
   "outputs": [
    {
     "data": {
      "text/html": [
       "<div>\n",
       "<style scoped>\n",
       "    .dataframe tbody tr th:only-of-type {\n",
       "        vertical-align: middle;\n",
       "    }\n",
       "\n",
       "    .dataframe tbody tr th {\n",
       "        vertical-align: top;\n",
       "    }\n",
       "\n",
       "    .dataframe thead th {\n",
       "        text-align: right;\n",
       "    }\n",
       "</style>\n",
       "<table border=\"1\" class=\"dataframe\">\n",
       "  <thead>\n",
       "    <tr style=\"text-align: right;\">\n",
       "      <th></th>\n",
       "      <th>nodes</th>\n",
       "      <th>relationships</th>\n",
       "    </tr>\n",
       "  </thead>\n",
       "  <tbody>\n",
       "    <tr>\n",
       "      <th>0</th>\n",
       "      <td>[(\"player101\" :player{})]</td>\n",
       "      <td>[(\"player101\")-[:serve@0{}]-&gt;(\"team204\"), (\"pl...</td>\n",
       "    </tr>\n",
       "    <tr>\n",
       "      <th>1</th>\n",
       "      <td>[(\"team215\" :team{}), (\"player113\" :player{}),...</td>\n",
       "      <td>[(\"player111\")-[:serve@0{}]-&gt;(\"team215\"), (\"pl...</td>\n",
       "    </tr>\n",
       "    <tr>\n",
       "      <th>2</th>\n",
       "      <td>[(\"player146\" :player{}), (\"team206\" :team{}),...</td>\n",
       "      <td>[(\"player146\")-[:serve@0{}]-&gt;(\"team222\"), (\"pl...</td>\n",
       "    </tr>\n",
       "  </tbody>\n",
       "</table>\n",
       "</div>"
      ],
      "text/plain": [
       "                                               nodes  \\\n",
       "0                          [(\"player101\" :player{})]   \n",
       "1  [(\"team215\" :team{}), (\"player113\" :player{}),...   \n",
       "2  [(\"player146\" :player{}), (\"team206\" :team{}),...   \n",
       "\n",
       "                                       relationships  \n",
       "0  [(\"player101\")-[:serve@0{}]->(\"team204\"), (\"pl...  \n",
       "1  [(\"player111\")-[:serve@0{}]->(\"team215\"), (\"pl...  \n",
       "2  [(\"player146\")-[:serve@0{}]->(\"team222\"), (\"pl...  "
      ]
     },
     "execution_count": 10,
     "metadata": {},
     "output_type": "execute_result"
    }
   ],
   "source": [
    "%ngql GET SUBGRAPH 2 STEPS FROM \"player101\" YIELD VERTICES AS nodes, EDGES AS relationships;"
   ]
  },
  {
   "cell_type": "code",
   "execution_count": 11,
   "id": "8d406b2d",
   "metadata": {
    "colab": {
     "base_uri": "https://localhost:8080/",
     "height": 551
    },
    "executionInfo": {
     "elapsed": 1058,
     "status": "ok",
     "timestamp": 1706078071515,
     "user": {
      "displayName": "",
      "userId": ""
     },
     "user_tz": -480
    },
    "id": "8d406b2d",
    "outputId": "5efefc80-337a-4b81-d2f3-d3f9b30b8905"
   },
   "outputs": [
    {
     "data": {
      "text/html": [
       "\n",
       "        <iframe\n",
       "            width=\"100%\"\n",
       "            height=\"500px\"\n",
       "            src=\"nebulagraph.html\"\n",
       "            frameborder=\"0\"\n",
       "            allowfullscreen\n",
       "            \n",
       "        ></iframe>\n",
       "        "
      ],
      "text/plain": [
       "<IPython.lib.display.IFrame at 0x116fa76d0>"
      ]
     },
     "metadata": {},
     "output_type": "display_data"
    },
    {
     "data": {
      "text/plain": [
       "<class 'pyvis.network.Network'> |N|=36 |E|=86"
      ]
     },
     "execution_count": 11,
     "metadata": {},
     "output_type": "execute_result"
    }
   ],
   "source": [
    "%ng_draw"
   ]
  },
  {
   "cell_type": "markdown",
   "id": "8f59b93d-1776-4a97-b318-20f74dd26458",
   "metadata": {},
   "source": [
    "# Draw Graph Schema\n",
    "\n",
    "We could quickly draw the schema with `%ng_draw_schema`"
   ]
  },
  {
   "cell_type": "code",
   "execution_count": 3,
   "id": "c8ab3493-37a5-42ea-80aa-30b9d88ffae8",
   "metadata": {},
   "outputs": [
    {
     "data": {
      "text/html": [
       "<div>\n",
       "<style scoped>\n",
       "    .dataframe tbody tr th:only-of-type {\n",
       "        vertical-align: middle;\n",
       "    }\n",
       "\n",
       "    .dataframe tbody tr th {\n",
       "        vertical-align: top;\n",
       "    }\n",
       "\n",
       "    .dataframe thead th {\n",
       "        text-align: right;\n",
       "    }\n",
       "</style>\n",
       "<table border=\"1\" class=\"dataframe\">\n",
       "  <thead>\n",
       "    <tr style=\"text-align: right;\">\n",
       "      <th></th>\n",
       "    </tr>\n",
       "  </thead>\n",
       "  <tbody>\n",
       "  </tbody>\n",
       "</table>\n",
       "</div>"
      ],
      "text/plain": [
       "Empty DataFrame\n",
       "Columns: []\n",
       "Index: []"
      ]
     },
     "execution_count": 3,
     "metadata": {},
     "output_type": "execute_result"
    }
   ],
   "source": [
    "%ngql USE demo_supplychain"
   ]
  },
  {
   "cell_type": "code",
   "execution_count": 4,
   "id": "1c71735c-a039-43af-b3c8-414323a21d75",
   "metadata": {},
   "outputs": [
    {
     "data": {
      "text/html": [
       "\n",
       "        <iframe\n",
       "            width=\"100%\"\n",
       "            height=\"500px\"\n",
       "            src=\"nebulagraph_schema.html\"\n",
       "            frameborder=\"0\"\n",
       "            allowfullscreen\n",
       "            \n",
       "        ></iframe>\n",
       "        "
      ],
      "text/plain": [
       "<IPython.lib.display.IFrame at 0x106bb67d0>"
      ]
     },
     "metadata": {},
     "output_type": "display_data"
    },
    {
     "data": {
      "text/plain": [
       "<class 'pyvis.network.Network'> |N|=4 |E|=3"
      ]
     },
     "execution_count": 4,
     "metadata": {},
     "output_type": "execute_result"
    }
   ],
   "source": [
    "%ng_draw_schema"
   ]
  },
  {
   "cell_type": "markdown",
   "id": "forbidden-carter",
   "metadata": {
    "id": "forbidden-carter"
   },
   "source": [
    "## Only one takeaway: `% ngql help`!\n",
    "All you have to remember is to use `$ngql help` to have all hints :-)"
   ]
  },
  {
   "cell_type": "code",
   "execution_count": 21,
   "id": "5a67dfdf",
   "metadata": {
    "colab": {
     "base_uri": "https://localhost:8080/"
    },
    "executionInfo": {
     "elapsed": 337,
     "status": "ok",
     "timestamp": 1706078086517,
     "user": {
      "displayName": "",
      "userId": ""
     },
     "user_tz": -480
    },
    "id": "5a67dfdf",
    "outputId": "f87b9dd7-eb3f-47c6-fcf9-63d4efb5f098"
   },
   "outputs": [
    {
     "name": "stdout",
     "output_type": "stream",
     "text": [
      "\n",
      "\n",
      "        Supported Configurations:\n",
      "        ------------------------\n",
      "        \n",
      "        > How to config ngql_result_style in \"raw\", \"pandas\"\n",
      "        %config IPythonNGQL.ngql_result_style=\"raw\"\n",
      "        %config IPythonNGQL.ngql_result_style=\"pandas\"\n",
      "\n",
      "        > How to config ngql_verbose in True, False\n",
      "        %config IPythonNGQL.ngql_verbose=True\n",
      "\n",
      "        > How to config max_connection_pool_size\n",
      "        %config IPythonNGQL.max_connection_pool_size=10\n",
      "\n",
      "        Quick Start:\n",
      "        -----------\n",
      "\n",
      "        > Connect to Neubla Graph\n",
      "        %ngql --address 127.0.0.1 --port 9669 --user user --password password\n",
      "\n",
      "        > Use Space\n",
      "        %ngql USE basketballplayer\n",
      "\n",
      "        > Query\n",
      "        %ngql SHOW TAGS;\n",
      "\n",
      "        > Multile Queries\n",
      "        %%ngql\n",
      "        SHOW TAGS;\n",
      "        SHOW HOSTS;\n",
      "\n",
      "        Reload ngql Magic\n",
      "        %reload_ext ngql\n",
      "\n",
      "        > Variables in query, we are using Jinja2 here\n",
      "        name = \"nba\"\n",
      "        %ngql USE \"{{ name }}\"\n",
      "\n",
      "        > Query and draw the graph\n",
      "\n",
      "        %ngql GET SUBGRAPH 2 STEPS FROM \"player101\" YIELD VERTICES AS nodes, EDGES AS relationships;\n",
      "\n",
      "        %ng_draw\n",
      "\n",
      "\n",
      "        \n"
     ]
    }
   ],
   "source": [
    "%ngql help"
   ]
  }
 ],
 "metadata": {
  "colab": {
   "provenance": [
    {
     "file_id": "https://github.com/wey-gu/ipython-ngql/blob/main/examples/get_started.ipynb",
     "timestamp": 1706078107363
    }
   ]
  },
  "kernelspec": {
   "display_name": "Python 3 (ipykernel)",
   "language": "python",
   "name": "python3"
  },
  "language_info": {
   "codemirror_mode": {
    "name": "ipython",
    "version": 3
   },
   "file_extension": ".py",
   "mimetype": "text/x-python",
   "name": "python",
   "nbconvert_exporter": "python",
   "pygments_lexer": "ipython3",
   "version": "3.11.7"
  }
 },
 "nbformat": 4,
 "nbformat_minor": 5
}
